{
 "cells": [
  {
   "cell_type": "markdown",
   "id": "297ba7ce-0c13-4029-b73b-41d9116f873f",
   "metadata": {},
   "source": [
    "# H1: Data Science Tools and Ecosystem"
   ]
  },
  {
   "cell_type": "markdown",
   "id": "35ace3bb-c77b-4b49-86b2-eccdd970d84a",
   "metadata": {},
   "source": [
    " In this notebook, Data Science Tools and Ecosystem are summarized"
   ]
  },
  {
   "cell_type": "markdown",
   "id": "8866b782-dfab-48f8-a367-5ae31ba54405",
   "metadata": {},
   "source": [
    "**Objectives:**\n",
    "1. Some of the popular languages of data science\n",
    "2. commonly used libraries by data scientist\n",
    "3. examples of expressions\n"
   ]
  },
  {
   "cell_type": "markdown",
   "id": "39104ac7-5dc5-4b6d-8d4b-bb4dc2714e90",
   "metadata": {},
   "source": [
    "Some of the popular languages that Data Scientists use are:"
   ]
  },
  {
   "cell_type": "markdown",
   "id": "a86a2d55-5c55-41b3-94c7-ac07afb9e181",
   "metadata": {},
   "source": [
    "1. Python\n",
    "2. R\n",
    "3. SQL"
   ]
  },
  {
   "cell_type": "markdown",
   "id": "ad6e3357-d649-459b-b6ee-f866ed59cfaf",
   "metadata": {},
   "source": [
    "Some of the commonly used libraries used by Data Scientists include:"
   ]
  },
  {
   "cell_type": "markdown",
   "id": "5a8b31f8-4c39-47dd-b9f1-868553a8ae57",
   "metadata": {},
   "source": [
    "1. TensorFlow\n",
    "2. NumPy\n",
    "3. Pandas"
   ]
  },
  {
   "cell_type": "markdown",
   "id": "90985aa2-0a73-4846-ab5a-2800d4b354f6",
   "metadata": {
    "tags": []
   },
   "source": [
    "| Data Science Tools |\n",
    "|--------------------|\n",
    "|Jupyter Notebook    |\n",
    "|RStudio|\n",
    "|Apache Zeppelin|"
   ]
  },
  {
   "cell_type": "markdown",
   "id": "f4e3a079-79b6-4c17-b87a-ce734d5f614b",
   "metadata": {},
   "source": [
    "### H3: Below are a few examples of evaluating arithmetic expressions in Python"
   ]
  },
  {
   "cell_type": "code",
   "execution_count": 2,
   "id": "bdde92f3-09dc-4b28-a831-d6d809bb9de8",
   "metadata": {
    "tags": []
   },
   "outputs": [
    {
     "data": {
      "text/plain": [
       "17"
      ]
     },
     "execution_count": 2,
     "metadata": {},
     "output_type": "execute_result"
    }
   ],
   "source": [
    "#This a simple arithmetic expression to mutiply then add integers\n",
    "(3*4)+5"
   ]
  },
  {
   "cell_type": "code",
   "execution_count": 3,
   "id": "c7bf9859-759a-44e5-82a0-b169bba4a8f2",
   "metadata": {
    "tags": []
   },
   "outputs": [
    {
     "data": {
      "text/plain": [
       "3.3333333333333335"
      ]
     },
     "execution_count": 3,
     "metadata": {},
     "output_type": "execute_result"
    }
   ],
   "source": [
    "#This will convert 200 minutes to hours by diving by 60\n",
    "200*(1/60)"
   ]
  },
  {
   "cell_type": "markdown",
   "id": "85d15329-69f9-4ff0-8645-21ea84a07701",
   "metadata": {},
   "source": [
    "## H2: Author\n",
    "Aadithyan"
   ]
  },
  {
   "cell_type": "code",
   "execution_count": null,
   "id": "cbe2fa25-ed50-4dea-949c-e55c005dbe34",
   "metadata": {},
   "outputs": [],
   "source": []
  }
 ],
 "metadata": {
  "kernelspec": {
   "display_name": "Python",
   "language": "python",
   "name": "conda-env-python-py"
  },
  "language_info": {
   "codemirror_mode": {
    "name": "ipython",
    "version": 3
   },
   "file_extension": ".py",
   "mimetype": "text/x-python",
   "name": "python",
   "nbconvert_exporter": "python",
   "pygments_lexer": "ipython3",
   "version": "3.7.12"
  }
 },
 "nbformat": 4,
 "nbformat_minor": 5
}
